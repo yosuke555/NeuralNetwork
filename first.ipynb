{
  "nbformat": 4,
  "nbformat_minor": 0,
  "metadata": {
    "colab": {
      "provenance": [],
      "authorship_tag": "ABX9TyNJRyq/8N2146PirrIyH7HI",
      "include_colab_link": true
    },
    "kernelspec": {
      "name": "python3",
      "display_name": "Python 3"
    },
    "language_info": {
      "name": "python"
    }
  },
  "cells": [
    {
      "cell_type": "markdown",
      "metadata": {
        "id": "view-in-github",
        "colab_type": "text"
      },
      "source": [
        "<a href=\"https://colab.research.google.com/github/yosuke555/NeuralNetwork/blob/main/first.ipynb\" target=\"_parent\"><img src=\"https://colab.research.google.com/assets/colab-badge.svg\" alt=\"Open In Colab\"/></a>"
      ]
    },
    {
      "cell_type": "code",
      "execution_count": 2,
      "metadata": {
        "colab": {
          "base_uri": "https://localhost:8080/"
        },
        "id": "aknSIagh-67X",
        "outputId": "2cdbd52b-ceab-422e-f0d3-645a01094cfe"
      },
      "outputs": [
        {
          "output_type": "stream",
          "name": "stdout",
          "text": [
            "Hello world\n"
          ]
        }
      ],
      "source": [
        "print(\"Hello world\")"
      ]
    },
    {
      "cell_type": "markdown",
      "source": [
        "## HelloWorld\n",
        "#### 数式入力\n",
        "$$y= \\frac{1}{x}$$\n",
        "\n",
        "##CPUとGPUとTPC\n",
        "・CPU：コンピュータにおける中心的な処理装置.   \n",
        "・GPU：画像処理に特化した演算装置だが，CPUよりも並列演算性能に優れ，行列演算が得意.(人海戦術)  \n",
        "・TPU：Google社が開発，機械学習に特化した特定用途向け集積回路.  \n",
        "## セッションとインスタンス\n",
        "・Session:ある活動を継続して行っている状態のこと.  \n",
        "・インスタンス：ソフトウェアとして実装された仮想的なマシン（オブジェクト指向のインスタンスとは異なる）.  \n",
        "90分ルール\n",
        "→ノートブックのセッションが切れてから９０分経過するとインスタンスが落とされる.  \n",
        "12時間ルール\n",
        "→新しいインスタンスを起動してから１２時間経過すると，インスタンスが落とされる.  \n",
        "セッションの管理.  \n",
        "ランタイム→セッションの管理で管理可能.   \n",
        "###スクラッチコードセル\n",
        "挿入→スクラッチコードセルによって，コードを試せる.  \n",
        "###コードスニペット\n",
        "挿入→コードスニペットによって，準備されたコードを挿入することができる.   \n",
        "### GitHuとの連携\n",
        "\n"
      ],
      "metadata": {
        "id": "7sDoCm1j_bnN"
      }
    },
    {
      "cell_type": "code",
      "source": [],
      "metadata": {
        "id": "Kr1lVepdCag5"
      },
      "execution_count": null,
      "outputs": []
    }
  ]
}